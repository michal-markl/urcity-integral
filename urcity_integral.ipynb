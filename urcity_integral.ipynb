{
 "cells": [
  {
   "cell_type": "code",
   "execution_count": 13,
   "metadata": {},
   "outputs": [],
   "source": [
    "import matplotlib.pyplot as plt\n",
    "import matplotlib.transforms\n",
    "import numpy as np\n",
    "import sympy as sy\n",
    "from datetime import datetime\n",
    "from math import *"
   ]
  },
  {
   "cell_type": "code",
   "execution_count": 14,
   "metadata": {},
   "outputs": [],
   "source": [
    "def movexAxLabelTicks(ax, fig, factor):\n",
    "    #plt.setp(ax.xaxis.get_majorticklabels()) \n",
    "    dx = factor/72.; dy = 0/72. \n",
    "    offset = matplotlib.transforms.ScaledTranslation(dx, dy, fig.dpi_scale_trans)\n",
    "    for label in ax.xaxis.get_majorticklabels():\n",
    "        label.set_transform(label.get_transform() - offset)"
   ]
  },
  {
   "cell_type": "code",
   "execution_count": 15,
   "metadata": {},
   "outputs": [],
   "source": [
    "# PROMENNE - zde se zadava vetsina vstupnich hodnot\n",
    "\n",
    "\n",
    "# Rozsah na ose x (viditelnost):\n",
    "xOd = -3\n",
    "xDo = 3\n",
    "\n",
    "# Rozsah na ose y (viditelnost):\n",
    "yOd = -1\n",
    "yDo = 4\n",
    "\n",
    "# Svislice:\n",
    "\n",
    "svisla1 = -1     # ! Nastavit na 0, pokud se nepouziva\n",
    "svisla2 = 1     # ! Nastavit na 0, pokud se nepouziva\n",
    "\n",
    "# Funkce:\n",
    "# Goniometricke vzorce atd. je nutne dosazovat jako numericky vypocitane pole hodnot, proto se musi pouzit napr. misto sin(x) np.sin(x)\n",
    "# Pokud je funkce konstantni, napr. x = 2, musi byt navratova hodnota: return 2 + x - x     (x se vynuluje, ale matplotlib by to jinak nedokazal vykreslit)\n",
    "# V pripade potreby lze pripsat definice dalsich funkci, pro svisle cary je nutne pouzit Svislice vyse\n",
    "\n",
    "def f(x):\n",
    "    return exp(1)**(x)\n",
    "\n",
    "def g(x):\n",
    "    return exp(1)**(-x)\n",
    "\n",
    "def h(x):\n",
    "    return exp(1) + x - x\n",
    "\n",
    "# Barvy:\n",
    "\n",
    "col1 = '#1CB1B3'\n",
    "col2 = '#30EAEB'\n",
    "col3 = '#5D9CE8'\n",
    "col4 = '#2DFFD7'\n",
    "col5 = '#1EB6EE'\n",
    "col6 = 'aqua'\n",
    "\n",
    "# Pismo (cisla, popisky os):\n",
    "csfont = {'fontname':'Times New Roman'}\n",
    "\n",
    "# Styly car ('solid' - tenka souvisla, 'dashed' - tenka carkovana, 'dotted' - tenka teckovana)\n",
    "stylFce = 'solid'\n",
    "stylSvisla = 'dashed'\n",
    "\n",
    "# Ukladat obrazky s casovou stopou v nazvu (jinak se obrazek pri ulozeni vzdy prepise)\n",
    "dtNazev = False"
   ]
  }
 ],
 "metadata": {
  "kernelspec": {
   "display_name": "Python 3",
   "language": "python",
   "name": "python3"
  },
  "language_info": {
   "codemirror_mode": {
    "name": "ipython",
    "version": 3
   },
   "file_extension": ".py",
   "mimetype": "text/x-python",
   "name": "python",
   "nbconvert_exporter": "python",
   "pygments_lexer": "ipython3",
   "version": "3.9.4 (tags/v3.9.4:1f2e308, Apr  6 2021, 13:40:21) [MSC v.1928 64 bit (AMD64)]"
  },
  "orig_nbformat": 4,
  "vscode": {
   "interpreter": {
    "hash": "11938c6bc6919ae2720b4d5011047913343b08a43b18698fd82dedb0d4417594"
   }
  }
 },
 "nbformat": 4,
 "nbformat_minor": 2
}
