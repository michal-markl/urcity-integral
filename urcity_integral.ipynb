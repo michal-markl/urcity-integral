{
 "cells": [
  {
   "cell_type": "code",
   "execution_count": 1,
   "metadata": {},
   "outputs": [],
   "source": [
    "import matplotlib.pyplot as plt\n",
    "import matplotlib.transforms\n",
    "import numpy as np\n",
    "import sympy as sy\n",
    "from datetime import datetime\n",
    "from math import *"
   ]
  },
  {
   "cell_type": "code",
   "execution_count": 2,
   "metadata": {},
   "outputs": [],
   "source": [
    "def movexAxLabelTicks(ax, fig, factor):\n",
    "    #plt.setp(ax.xaxis.get_majorticklabels()) \n",
    "    dx = factor/72.; dy = 0/72. \n",
    "    offset = matplotlib.transforms.ScaledTranslation(dx, dy, fig.dpi_scale_trans)\n",
    "    for label in ax.xaxis.get_majorticklabels():\n",
    "        label.set_transform(label.get_transform() - offset)"
   ]
  },
  {
   "cell_type": "code",
   "execution_count": 3,
   "metadata": {},
   "outputs": [],
   "source": [
    "# PROMENNE - zde se zadava vetsina vstupnich hodnot\n",
    "\n",
    "\n",
    "# Rozsah na ose x (viditelnost):\n",
    "xOd = -3\n",
    "xDo = 3\n",
    "\n",
    "# Rozsah na ose y (viditelnost):\n",
    "yOd = -1\n",
    "yDo = 4\n",
    "\n",
    "# Svislice:\n",
    "\n",
    "svisla1 = -1     # ! Nastavit na 0, pokud se nepouziva\n",
    "svisla2 = 1     # ! Nastavit na 0, pokud se nepouziva\n",
    "\n",
    "# Funkce:\n",
    "# Goniometricke vzorce atd. je nutne dosazovat jako numericky vypocitane pole hodnot, proto se musi pouzit napr. misto sin(x) np.sin(x)\n",
    "# Pokud je funkce konstantni, napr. x = 2, musi byt navratova hodnota: return 2 + x - x     (x se vynuluje, ale matplotlib by to jinak nedokazal vykreslit)\n",
    "# V pripade potreby lze pripsat definice dalsich funkci, pro svisle cary je nutne pouzit Svislice vyse\n",
    "\n",
    "def f(x):\n",
    "    return exp(1)**(x)\n",
    "\n",
    "def g(x):\n",
    "    return exp(1)**(-x)\n",
    "\n",
    "def h(x):\n",
    "    return exp(1) + x - x\n",
    "\n",
    "# Barvy:\n",
    "\n",
    "col1 = '#1CB1B3'\n",
    "col2 = '#30EAEB'\n",
    "col3 = '#5D9CE8'\n",
    "col4 = '#2DFFD7'\n",
    "col5 = '#1EB6EE'\n",
    "col6 = 'aqua'\n",
    "\n",
    "# Pismo (cisla, popisky os):\n",
    "csfont = {'fontname':'Times New Roman'}\n",
    "\n",
    "# Styly car ('solid' - tenka souvisla, 'dashed' - tenka carkovana, 'dotted' - tenka teckovana)\n",
    "stylFce = 'solid'\n",
    "stylSvisla = 'dashed'\n",
    "\n",
    "# Ukladat obrazky s casovou stopou v nazvu (jinak se obrazek pri ulozeni vzdy prepise)\n",
    "dtNazev = False"
   ]
  },
  {
   "cell_type": "code",
   "execution_count": 4,
   "metadata": {},
   "outputs": [
    {
     "data": {
      "image/png": "[encoded data removed]",
      "text/plain": [
       "<Figure size 640x480 with 1 Axes>"
      ]
     },
     "metadata": {},
     "output_type": "display_data"
    }
   ],
   "source": [
    "# Zde je vizualni nastaveni grafu, neni potreba tu cokoliv menit\n",
    "x = np.linspace(xOd-1, xDo+1, 150)\n",
    "fig, ax = plt.subplots()\n",
    "ax.spines['left'].set_position('zero')\n",
    "ax.spines['bottom'].set_position('zero')\n",
    "ax.spines['right'].set_color('none')\n",
    "ax.spines['top'].set_color('none')\n",
    "ax.xaxis.set_ticks_position('bottom')\n",
    "ax.yaxis.set_ticks_position('left')\n",
    "plt.xlim(xOd-0.3, xDo+0.3)\n",
    "plt.ylim(yOd-0.3, yDo+0.3)\n",
    "plt.xticks(np.arange(xOd, xDo+1, 1.0))\n",
    "plt.yticks(np.arange(yOd, yDo+1, 1.0))\n",
    "ax.yaxis.get_major_ticks()[-yOd].label1.set_visible(False)\n",
    "ax.set_xlabel('x', loc='right', style='italic', **csfont, fontsize=14)\n",
    "ax.set_ylabel('y', loc='top', rotation=0, style='italic', **csfont, fontsize=14)\n",
    "plt.yticks(**csfont)\n",
    "plt.xticks(**csfont)\n",
    "ri = ax.plot((1), (0), ls=\"\", marker=\">\", ms=4, color=\"k\", transform=ax.get_yaxis_transform(), clip_on=False)\n",
    "up = ax.plot((0), (1), ls=\"\", marker=\"^\", ms=4, color=\"k\", transform=ax.get_xaxis_transform(), clip_on=False)\n",
    "le = ax.plot((0), (0), ls=\"\", marker=\"<\", ms=4, color=\"k\", transform=ax.get_yaxis_transform(), clip_on=False)\n",
    "do = ax.plot((0), (0), ls=\"\", marker=\"v\", ms=4, color=\"k\", transform=ax.get_xaxis_transform(), clip_on=False)\n",
    "# Posune hodnoty na ose x doleva\n",
    "movexAxLabelTicks(ax, fig, 40)\n",
    "\n",
    "\n",
    "# Vykresli jednotlive funkce - staci zakomentovat, pokud funkce neni potreba\n",
    "plt.plot(x, f(x), col1, linestyle=stylFce, label='f(x)')\n",
    "plt.plot(x, g(x), col2, linestyle=stylFce, label='h(x)')\n",
    "plt.plot(x, h(x), col3, linestyle=stylFce, label='g(x)')\n",
    "\n",
    "\n",
    "# Svislice - nemusi se zakomentovat. Zobrazi se pouze, pokud je hodnota x ruzna od 0\n",
    "if svisla1 != 0:\n",
    "    ax.axvline(x = svisla1, color = col4, linestyle=stylSvisla)\n",
    "if svisla2 != 0:\n",
    "    ax.axvline(x = svisla2, color= col5, linestyle=stylSvisla)\n",
    "\n",
    "\n",
    "# Vykresli obsah plochy mezi krivkami. Pokud je plocha ohranicena 3 a vice krivkami,\n",
    "#   musi se plocha slozit z podploch (tam, kde se krivky krizi, tam na sebe plochy navazuji)\n",
    "# 1. argument je vzdy x, 2. je prvni funkce, 3. je druha funkce (nastavit na 0, pokud je plocha zdola uzavrena osou x),\n",
    "#   4. obsahuje prislusny interval pro vykresleni plochy.\n",
    "#\n",
    "# Druha moznost je vyplnovat plochu mezi krivkou a maximem (resp. minimem) z dalsich dvou krivek. Maximum (resp. minimum)\n",
    "#   dve krivky spoji do jedne. V pripade 4 a vice funkci lze pouzit vnorene maximum (resp. minimum). Takovy postup umoznuje\n",
    "#   elegantneji vykreslit plochu na celem intervalu a neni potreba ho tim padem delit.\n",
    "#\n",
    "# (Iracionalni cisla v mezich intervalu se ne vzdy vykresluji az do konce, proto je obcas nutne pricist nebo odecist nejakou setinu,\n",
    "#   napr.: [(x >= -pi/2-0.02) and (x <= pi/2+0.02) for x in x], aby plocha byla \"dotazena\")\n",
    "#                      ^^^^^                ^^^^^\n",
    "#plt.fill_between(x, f(x), g(x), where = [(x >= -1) and (x <= 1) for x in x], color = col6, alpha = 0.4)\n",
    "#plt.fill_between(x, 0, np.minimum(f(x),g(x)), where = [(x >= -1) and (x <= 1) for x in x], color = col6, alpha = 0.4)\n",
    "plt.fill_between(x, h(x), np.maximum(f(x),g(x)), where = [(x >= -1) and (x <= 1) for x in x], color = col6, alpha = 0.3)\n",
    "#plt.fill_between(x, f(x), 0, where = [(x > -1) and (x < 1) for x in x], color = col6, alpha = 0.4)\n",
    "\n",
    "\n",
    "\n",
    "# Vytvori .png soubor ve vyssim rozliseni\n",
    "if dtNazev:\n",
    "    plt.savefig(f'graf_{datetime.now().strftime(\"%Y%m%d_%H%M%S\")}', dpi=400)\n",
    "else:\n",
    "    plt.savefig('graf.png', dpi=400)\n",
    "\n",
    "# Posune hodnoty na ose x o kus zpet, aby se v nahledu s nizsi kvalitou zobrazily na spravnem miste\n",
    "movexAxLabelTicks(ax, fig, -30)\n"
   ]
  }
 ],
 "metadata": {
  "kernelspec": {
   "display_name": "Python 3",
   "language": "python",
   "name": "python3"
  },
  "language_info": {
   "codemirror_mode": {
    "name": "ipython",
    "version": 3
   },
   "file_extension": ".py",
   "mimetype": "text/x-python",
   "name": "python",
   "nbconvert_exporter": "python",
   "pygments_lexer": "ipython3",
   "version": "3.9.4"
  },
  "orig_nbformat": 4,
  "vscode": {
   "interpreter": {
    "hash": "11938c6bc6919ae2720b4d5011047913343b08a43b18698fd82dedb0d4417594"
   }
  }
 },
 "nbformat": 4,
 "nbformat_minor": 2
}
